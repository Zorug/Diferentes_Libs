{
 "cells": [
  {
   "cell_type": "code",
   "execution_count": 3,
   "metadata": {},
   "outputs": [
    {
     "name": "stdout",
     "output_type": "stream",
     "text": [
      "Collecting pyautogui\n",
      "  Downloading https://files.pythonhosted.org/packages/1c/3c/4711a718371f6a16fd19833abf5feea2b1701722bcecdba782d5db7a9f36/PyAutoGUI-0.9.48.tar.gz (57kB)\n",
      "Collecting pymsgbox (from pyautogui)\n",
      "Collecting PyTweening>=1.0.1 (from pyautogui)\n",
      "Collecting pyscreeze>=0.1.21 (from pyautogui)\n",
      "  Downloading https://files.pythonhosted.org/packages/ec/ac/5835f30f47b1ec870a4f8411a272b7eff4deedd159d20874478b924448f5/PyScreeze-0.1.25.tar.gz\n",
      "Collecting pygetwindow>=0.0.5 (from pyautogui)\n",
      "  Downloading https://files.pythonhosted.org/packages/28/8b/f1a396f8ec5923e11246fabe29419a6dd8949a0360337fe6ad0f28a9c33b/PyGetWindow-0.0.8.tar.gz\n",
      "Collecting mouseinfo (from pyautogui)\n",
      "  Downloading https://files.pythonhosted.org/packages/cc/dd/dd184693becfcf4fe3eda41462b791687fd4b1d314f53b387a72d88ba08d/MouseInfo-0.1.2.tar.gz\n",
      "Requirement already satisfied: Pillow>=5.2.0 in c:\\users\\cassi\\anaconda3\\lib\\site-packages (from pyscreeze>=0.1.21->pyautogui) (6.2.0)\n",
      "Collecting pyrect (from pygetwindow>=0.0.5->pyautogui)\n",
      "Collecting pyperclip (from mouseinfo->pyautogui)\n",
      "  Downloading https://files.pythonhosted.org/packages/2d/0f/4eda562dffd085945d57c2d9a5da745cfb5228c02bc90f2c74bbac746243/pyperclip-1.7.0.tar.gz\n",
      "Building wheels for collected packages: pyautogui, pyscreeze, pygetwindow, mouseinfo, pyperclip\n",
      "  Building wheel for pyautogui (setup.py): started\n",
      "  Building wheel for pyautogui (setup.py): finished with status 'done'\n",
      "  Created wheel for pyautogui: filename=PyAutoGUI-0.9.48-cp37-none-any.whl size=37306 sha256=ebcacc62c0dd818112d448345d74cbf9319b453dc8741c814af8ac05fe65d9fd\n",
      "  Stored in directory: C:\\Users\\cassi\\AppData\\Local\\pip\\Cache\\wheels\\31\\92\\e2\\05d6f3b32b7f3e4a64fc8cba76a24d59d0f86b8cac610732df\n",
      "  Building wheel for pyscreeze (setup.py): started\n",
      "  Building wheel for pyscreeze (setup.py): finished with status 'done'\n",
      "  Created wheel for pyscreeze: filename=PyScreeze-0.1.25-cp37-none-any.whl size=11878 sha256=beaa8d60a96c1128e5033dc72bdc03cd20aace0d81ad561b6aa77013f943453e\n",
      "  Stored in directory: C:\\Users\\cassi\\AppData\\Local\\pip\\Cache\\wheels\\d4\\78\\e5\\c2231e20bc4c2ec5b6198a921f6c9f90758412165f66e39a5e\n",
      "  Building wheel for pygetwindow (setup.py): started\n",
      "  Building wheel for pygetwindow (setup.py): finished with status 'done'\n",
      "  Created wheel for pygetwindow: filename=PyGetWindow-0.0.8-cp37-none-any.whl size=11015 sha256=5f56b7eb1b272dc23e625e795f9a72eaff976c2f37eb2dc25987bf35904eebcb\n",
      "  Stored in directory: C:\\Users\\cassi\\AppData\\Local\\pip\\Cache\\wheels\\a7\\20\\2c\\7ba9c02521960b138ff4a635fced58cb7a3bc3cc99d52f56b5\n",
      "  Building wheel for mouseinfo (setup.py): started\n",
      "  Building wheel for mouseinfo (setup.py): finished with status 'done'\n",
      "  Created wheel for mouseinfo: filename=MouseInfo-0.1.2-cp37-none-any.whl size=10286 sha256=9bed0787c4c76cf79395b4cb6d96d514ae7ead45d8cbdee91965cf18da2aa38f\n",
      "  Stored in directory: C:\\Users\\cassi\\AppData\\Local\\pip\\Cache\\wheels\\ae\\9d\\36\\593857c2baec61b37a3d4c1f81b42aa6e080bf1a7cd806d75a\n",
      "  Building wheel for pyperclip (setup.py): started\n",
      "  Building wheel for pyperclip (setup.py): finished with status 'done'\n",
      "  Created wheel for pyperclip: filename=pyperclip-1.7.0-cp37-none-any.whl size=8365 sha256=90b322d5291c81eeda8dbea38ce5aa8f70b41584d84d04d814a81db8c5f93389\n",
      "  Stored in directory: C:\\Users\\cassi\\AppData\\Local\\pip\\Cache\\wheels\\92\\f0\\ac\\2ba2972034e98971c3654ece337ac61e546bdeb34ca960dc8c\n",
      "Successfully built pyautogui pyscreeze pygetwindow mouseinfo pyperclip\n",
      "Installing collected packages: pymsgbox, PyTweening, pyscreeze, pyrect, pygetwindow, pyperclip, mouseinfo, pyautogui\n",
      "Successfully installed PyTweening-1.0.3 mouseinfo-0.1.2 pyautogui-0.9.48 pygetwindow-0.0.8 pymsgbox-1.0.7 pyperclip-1.7.0 pyrect-0.1.4 pyscreeze-0.1.25\n"
     ]
    }
   ],
   "source": [
    "!pip install pyautogui"
   ]
  },
  {
   "cell_type": "code",
   "execution_count": 4,
   "metadata": {},
   "outputs": [],
   "source": [
    "import pyautogui\n",
    "from time import sleep"
   ]
  },
  {
   "cell_type": "code",
   "execution_count": 5,
   "metadata": {},
   "outputs": [
    {
     "name": "stdout",
     "output_type": "stream",
     "text": [
      "Size(width=1366, height=768)\n"
     ]
    }
   ],
   "source": [
    "print(pyautogui.size()) # width=1366, height=768"
   ]
  },
  {
   "cell_type": "code",
   "execution_count": 3,
   "metadata": {},
   "outputs": [],
   "source": [
    "#print(pyautogui.position()) # encontra a posição do mouse\n",
    "# x=779, y=218\n",
    "# x=781, y=283\n",
    "#x=779, y=340\n",
    "#x=783, y=405\n",
    "#x=780, y=465\n",
    "#x=780, y=530\n",
    "#x=781, y=573 # confirm"
   ]
  },
  {
   "cell_type": "code",
   "execution_count": 6,
   "metadata": {},
   "outputs": [],
   "source": [
    "x_point = 780\n",
    "y_start = 218\n",
    "y_diff = 62"
   ]
  },
  {
   "cell_type": "code",
   "execution_count": 7,
   "metadata": {},
   "outputs": [
    {
     "name": "stdout",
     "output_type": "stream",
     "text": [
      "Itens a venda: 386\n",
      "2 para itens em tempo real.\n",
      "Qual função do programa? 1\n"
     ]
    }
   ],
   "source": [
    "#x_point, y_start, y_diff = 925, 240, 62\n",
    "time_to_show_confirm, time_to_reload, time_to_new_cell_show = 2, 3, 3\n",
    "itens, erro = int(input(\"Itens a venda: \")), 0.1\n",
    "itens, itens_a_selecionar = int(itens*(1+erro)), 6\n",
    "n_repeticoes = int(itens/itens_a_selecionar)\n",
    "#print(\"itens e erro:\",itens)\n",
    "print('2 para itens em tempo real.')\n",
    "opcao = int(input(\"Qual função do programa? \"))"
   ]
  },
  {
   "cell_type": "code",
   "execution_count": 8,
   "metadata": {},
   "outputs": [],
   "source": [
    "def quick_confirm_all(): # pega tudo rapidão\n",
    "    for j in range(n_repeticoes):\n",
    "        for i in range(itens_a_selecionar):\n",
    "            pyautogui.moveTo(x_point, y_start + (i * y_diff), duration = 0.5)\n",
    "            pyautogui.click(x_point, y_start + (i * y_diff))\n",
    "        sleep(time_to_show_confirm)\n",
    "        pyautogui.click(x_point, y_start + (6 * y_diff))\n",
    "        sleep(time_to_reload)"
   ]
  },
  {
   "cell_type": "code",
   "execution_count": 9,
   "metadata": {},
   "outputs": [],
   "source": [
    "def confirm_while_sell(): # nesta parte vamos ativar enquanto estamos vendendo para agilizar\n",
    "    for i in range (itens):\n",
    "        sleep(time_to_new_cell_show)\n",
    "        #pyautogui.click(x_point, y_start)\n",
    "        #pyautogui.click(x_point, y_start + y_diff)\n",
    "        for i in range(3):\n",
    "            pyautogui.click(x_point, y_start + i*y_diff)\n",
    "            sleep(0.5)\n",
    "        time_to_show_confirm = 0.8\n",
    "        sleep(time_to_show_confirm)\n",
    "        pyautogui.click(x_point, y_start + (6 * y_diff))\n",
    "        sleep(time_to_reload)"
   ]
  },
  {
   "cell_type": "code",
   "execution_count": 10,
   "metadata": {},
   "outputs": [
    {
     "ename": "KeyboardInterrupt",
     "evalue": "",
     "output_type": "error",
     "traceback": [
      "\u001b[1;31m---------------------------------------------------------------------------\u001b[0m",
      "\u001b[1;31mKeyboardInterrupt\u001b[0m                         Traceback (most recent call last)",
      "\u001b[1;32m<ipython-input-10-0bc2a61044b9>\u001b[0m in \u001b[0;36m<module>\u001b[1;34m\u001b[0m\n\u001b[1;32m----> 1\u001b[1;33m \u001b[1;32mif\u001b[0m \u001b[0mopcao\u001b[0m \u001b[1;33m==\u001b[0m \u001b[1;36m1\u001b[0m\u001b[1;33m:\u001b[0m \u001b[0mquick_confirm_all\u001b[0m\u001b[1;33m(\u001b[0m\u001b[1;33m)\u001b[0m\u001b[1;33m\u001b[0m\u001b[1;33m\u001b[0m\u001b[0m\n\u001b[0m\u001b[0;32m      2\u001b[0m \u001b[1;32melif\u001b[0m \u001b[0mopcao\u001b[0m \u001b[1;33m==\u001b[0m \u001b[1;36m2\u001b[0m\u001b[1;33m:\u001b[0m \u001b[0mconfirm_while_sell\u001b[0m\u001b[1;33m(\u001b[0m\u001b[1;33m)\u001b[0m\u001b[1;33m\u001b[0m\u001b[1;33m\u001b[0m\u001b[0m\n\u001b[0;32m      3\u001b[0m \u001b[1;32melse\u001b[0m\u001b[1;33m:\u001b[0m \u001b[0mprint\u001b[0m\u001b[1;33m(\u001b[0m\u001b[1;34m'Sem opção selecionada'\u001b[0m\u001b[1;33m)\u001b[0m\u001b[1;33m\u001b[0m\u001b[1;33m\u001b[0m\u001b[0m\n",
      "\u001b[1;32m<ipython-input-8-a99baf2d288a>\u001b[0m in \u001b[0;36mquick_confirm_all\u001b[1;34m()\u001b[0m\n\u001b[0;32m      6\u001b[0m         \u001b[0msleep\u001b[0m\u001b[1;33m(\u001b[0m\u001b[0mtime_to_show_confirm\u001b[0m\u001b[1;33m)\u001b[0m\u001b[1;33m\u001b[0m\u001b[1;33m\u001b[0m\u001b[0m\n\u001b[0;32m      7\u001b[0m         \u001b[0mpyautogui\u001b[0m\u001b[1;33m.\u001b[0m\u001b[0mclick\u001b[0m\u001b[1;33m(\u001b[0m\u001b[0mx_point\u001b[0m\u001b[1;33m,\u001b[0m \u001b[0my_start\u001b[0m \u001b[1;33m+\u001b[0m \u001b[1;33m(\u001b[0m\u001b[1;36m6\u001b[0m \u001b[1;33m*\u001b[0m \u001b[0my_diff\u001b[0m\u001b[1;33m)\u001b[0m\u001b[1;33m)\u001b[0m\u001b[1;33m\u001b[0m\u001b[1;33m\u001b[0m\u001b[0m\n\u001b[1;32m----> 8\u001b[1;33m         \u001b[0msleep\u001b[0m\u001b[1;33m(\u001b[0m\u001b[0mtime_to_reload\u001b[0m\u001b[1;33m)\u001b[0m\u001b[1;33m\u001b[0m\u001b[1;33m\u001b[0m\u001b[0m\n\u001b[0m",
      "\u001b[1;31mKeyboardInterrupt\u001b[0m: "
     ]
    }
   ],
   "source": [
    "if opcao == 1: quick_confirm_all()\n",
    "elif opcao == 2: confirm_while_sell()\n",
    "else: print('Sem opção selecionada')"
   ]
  },
  {
   "cell_type": "code",
   "execution_count": null,
   "metadata": {},
   "outputs": [],
   "source": []
  }
 ],
 "metadata": {
  "kernelspec": {
   "display_name": "Python 3",
   "language": "python",
   "name": "python3"
  },
  "language_info": {
   "codemirror_mode": {
    "name": "ipython",
    "version": 3
   },
   "file_extension": ".py",
   "mimetype": "text/x-python",
   "name": "python",
   "nbconvert_exporter": "python",
   "pygments_lexer": "ipython3",
   "version": "3.7.4"
  }
 },
 "nbformat": 4,
 "nbformat_minor": 2
}
