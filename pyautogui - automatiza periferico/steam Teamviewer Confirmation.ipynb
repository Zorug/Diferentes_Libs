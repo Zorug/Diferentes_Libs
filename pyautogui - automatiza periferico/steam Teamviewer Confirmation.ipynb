{
 "cells": [
  {
   "cell_type": "code",
   "execution_count": 1,
   "metadata": {},
   "outputs": [],
   "source": [
    "import pyautogui\n",
    "from time import sleep"
   ]
  },
  {
   "cell_type": "code",
   "execution_count": 2,
   "metadata": {},
   "outputs": [
    {
     "name": "stdout",
     "output_type": "stream",
     "text": [
      "Size(width=1366, height=768)\n"
     ]
    }
   ],
   "source": [
    "print(pyautogui.size()) # width=1366, height=768"
   ]
  },
  {
   "cell_type": "code",
   "execution_count": 3,
   "metadata": {},
   "outputs": [
    {
     "name": "stdin",
     "output_type": "stream",
     "text": [
      "Itens a venda:  350\n"
     ]
    },
    {
     "name": "stdout",
     "output_type": "stream",
     "text": [
      "2 para itens em tempo real.\n"
     ]
    },
    {
     "name": "stdin",
     "output_type": "stream",
     "text": [
      "Qual função do programa?  1\n"
     ]
    }
   ],
   "source": [
    "x_point, y_start, y_diff = 925, 240, 62\n",
    "time_to_show_confirm, time_to_reload, time_to_new_cell_show = 2, 3, 3\n",
    "itens, erro = int(input(\"Itens a venda: \")), 0.1\n",
    "itens, itens_a_selecionar = int(itens*(1+erro)), 6\n",
    "n_repeticoes = int(itens/itens_a_selecionar)\n",
    "#print(\"itens e erro:\",itens)\n",
    "print('2 para itens em tempo real.')\n",
    "opcao = int(input(\"Qual função do programa? \"))"
   ]
  },
  {
   "cell_type": "code",
   "execution_count": 4,
   "metadata": {},
   "outputs": [],
   "source": [
    "def quick_confirm_all(): # pega tudo rapidão\n",
    "    for j in range(n_repeticoes):\n",
    "        for i in range(itens_a_selecionar):\n",
    "            #pyautogui.moveTo(x_point, y_start + (i * y_diff), duration = 0.001)\n",
    "            pyautogui.click(x_point, y_start + (i * y_diff))\n",
    "        sleep(time_to_show_confirm)\n",
    "        pyautogui.click(x_point, y_start + (6 * y_diff))\n",
    "        sleep(time_to_reload)"
   ]
  },
  {
   "cell_type": "code",
   "execution_count": 5,
   "metadata": {},
   "outputs": [],
   "source": [
    "def confirm_while_sell(): # nesta parte vamos ativar enquanto estamos vendendo para agilizar\n",
    "    for i in range (itens):\n",
    "        sleep(time_to_new_cell_show)\n",
    "        #pyautogui.click(x_point, y_start)\n",
    "        #pyautogui.click(x_point, y_start + y_diff)\n",
    "        for i in range(4):\n",
    "            pyautogui.click(x_point, y_start + i*y_diff)\n",
    "            sleep(0.2)\n",
    "        time_to_show_confirm = 0.8\n",
    "        sleep(time_to_show_confirm)\n",
    "        pyautogui.click(x_point, y_start + (6 * y_diff))\n",
    "        sleep(time_to_reload)"
   ]
  },
  {
   "cell_type": "code",
   "execution_count": 6,
   "metadata": {},
   "outputs": [
    {
     "ename": "KeyboardInterrupt",
     "evalue": "",
     "output_type": "error",
     "traceback": [
      "\u001b[1;31m---------------------------------------------------------------------------\u001b[0m",
      "\u001b[1;31mKeyboardInterrupt\u001b[0m                         Traceback (most recent call last)",
      "\u001b[1;32m<ipython-input-6-0bc2a61044b9>\u001b[0m in \u001b[0;36m<module>\u001b[1;34m\u001b[0m\n\u001b[1;32m----> 1\u001b[1;33m \u001b[1;32mif\u001b[0m \u001b[0mopcao\u001b[0m \u001b[1;33m==\u001b[0m \u001b[1;36m1\u001b[0m\u001b[1;33m:\u001b[0m \u001b[0mquick_confirm_all\u001b[0m\u001b[1;33m(\u001b[0m\u001b[1;33m)\u001b[0m\u001b[1;33m\u001b[0m\u001b[1;33m\u001b[0m\u001b[0m\n\u001b[0m\u001b[0;32m      2\u001b[0m \u001b[1;32melif\u001b[0m \u001b[0mopcao\u001b[0m \u001b[1;33m==\u001b[0m \u001b[1;36m2\u001b[0m\u001b[1;33m:\u001b[0m \u001b[0mconfirm_while_sell\u001b[0m\u001b[1;33m(\u001b[0m\u001b[1;33m)\u001b[0m\u001b[1;33m\u001b[0m\u001b[1;33m\u001b[0m\u001b[0m\n\u001b[0;32m      3\u001b[0m \u001b[1;32melse\u001b[0m\u001b[1;33m:\u001b[0m \u001b[0mprint\u001b[0m\u001b[1;33m(\u001b[0m\u001b[1;34m'Sem opção selecionada'\u001b[0m\u001b[1;33m)\u001b[0m\u001b[1;33m\u001b[0m\u001b[1;33m\u001b[0m\u001b[0m\n",
      "\u001b[1;32m<ipython-input-4-59b9d63e0de8>\u001b[0m in \u001b[0;36mquick_confirm_all\u001b[1;34m()\u001b[0m\n\u001b[0;32m      6\u001b[0m         \u001b[0msleep\u001b[0m\u001b[1;33m(\u001b[0m\u001b[0mtime_to_show_confirm\u001b[0m\u001b[1;33m)\u001b[0m\u001b[1;33m\u001b[0m\u001b[1;33m\u001b[0m\u001b[0m\n\u001b[0;32m      7\u001b[0m         \u001b[0mpyautogui\u001b[0m\u001b[1;33m.\u001b[0m\u001b[0mclick\u001b[0m\u001b[1;33m(\u001b[0m\u001b[0mx_point\u001b[0m\u001b[1;33m,\u001b[0m \u001b[0my_start\u001b[0m \u001b[1;33m+\u001b[0m \u001b[1;33m(\u001b[0m\u001b[1;36m6\u001b[0m \u001b[1;33m*\u001b[0m \u001b[0my_diff\u001b[0m\u001b[1;33m)\u001b[0m\u001b[1;33m)\u001b[0m\u001b[1;33m\u001b[0m\u001b[1;33m\u001b[0m\u001b[0m\n\u001b[1;32m----> 8\u001b[1;33m         \u001b[0msleep\u001b[0m\u001b[1;33m(\u001b[0m\u001b[0mtime_to_reload\u001b[0m\u001b[1;33m)\u001b[0m\u001b[1;33m\u001b[0m\u001b[1;33m\u001b[0m\u001b[0m\n\u001b[0m",
      "\u001b[1;31mKeyboardInterrupt\u001b[0m: "
     ]
    }
   ],
   "source": [
    "if opcao == 1: quick_confirm_all()\n",
    "elif opcao == 2: confirm_while_sell()\n",
    "else: print('Sem opção selecionada')"
   ]
  },
  {
   "cell_type": "code",
   "execution_count": null,
   "metadata": {},
   "outputs": [],
   "source": [
    "pyautogui.click(x_point, y_start)\n",
    "pyautogui.click(x_point, y_start)\n",
    "pyautogui.mouseDown()\n",
    "pyautogui.mouseUp()"
   ]
  },
  {
   "cell_type": "code",
   "execution_count": null,
   "metadata": {},
   "outputs": [],
   "source": [
    "pyautogui.mouseDown(button='right', x_point, y_start)\n",
    "pyautogui.mouseUp(button='right')"
   ]
  },
  {
   "cell_type": "code",
   "execution_count": null,
   "metadata": {},
   "outputs": [],
   "source": [
    "pyautogui.moveTo(466, 24)\n",
    "#pyautogui.click()\n",
    "pyautogui.click()"
   ]
  },
  {
   "cell_type": "code",
   "execution_count": null,
   "metadata": {},
   "outputs": [],
   "source": [
    "!pip install pynput\n",
    "from pynput.mouse import Button, Controller\n",
    "mouse = Controller()\n",
    "mouse.move(x_point, y_start)\n",
    "mouse.press(Button.left)"
   ]
  },
  {
   "cell_type": "code",
   "execution_count": null,
   "metadata": {},
   "outputs": [],
   "source": [
    "print('The current pointer position is {0}'.format(\n",
    "    mouse.position))"
   ]
  },
  {
   "cell_type": "code",
   "execution_count": null,
   "metadata": {},
   "outputs": [],
   "source": [
    "# item 1: meia tela: 646, 252\n",
    "# item 2: meia tela: (642, 306)"
   ]
  },
  {
   "cell_type": "code",
   "execution_count": null,
   "metadata": {},
   "outputs": [],
   "source": [
    "mouse.position = (646, 252)\n",
    "sleep(2)\n",
    "mouse.press(Button.left)\n",
    "sleep(2)\n",
    "mouse.press(Button.left)\n",
    "sleep(2)\n",
    "mouse.release(Button.left)"
   ]
  },
  {
   "cell_type": "code",
   "execution_count": null,
   "metadata": {},
   "outputs": [],
   "source": []
  }
 ],
 "metadata": {
  "kernelspec": {
   "display_name": "Python 3",
   "language": "python",
   "name": "python3"
  },
  "language_info": {
   "codemirror_mode": {
    "name": "ipython",
    "version": 3
   },
   "file_extension": ".py",
   "mimetype": "text/x-python",
   "name": "python",
   "nbconvert_exporter": "python",
   "pygments_lexer": "ipython3",
   "version": "3.7.3"
  }
 },
 "nbformat": 4,
 "nbformat_minor": 2
}
