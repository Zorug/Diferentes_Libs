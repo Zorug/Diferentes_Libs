{
 "cells": [
  {
   "cell_type": "code",
   "execution_count": 4,
   "metadata": {},
   "outputs": [
    {
     "name": "stdout",
     "output_type": "stream",
     "text": [
      "Collecting pynput\n",
      "  Downloading https://files.pythonhosted.org/packages/26/c6/7349befbdb30eb5b95f962a0745baee30d88bb29d370a1cd1d242bce68cd/pynput-1.4.4-py2.py3-none-any.whl (84kB)\n",
      "Requirement already satisfied: six in c:\\users\\cassi\\anaconda3\\lib\\site-packages (from pynput) (1.12.0)\n",
      "Installing collected packages: pynput\n",
      "Successfully installed pynput-1.4.4\n"
     ]
    }
   ],
   "source": [
    "!pip install pynput"
   ]
  },
  {
   "cell_type": "code",
   "execution_count": 1,
   "metadata": {},
   "outputs": [],
   "source": [
    "from pynput.mouse import Button, Controller"
   ]
  },
  {
   "cell_type": "code",
   "execution_count": 3,
   "metadata": {},
   "outputs": [],
   "source": [
    "mouse = Controller()"
   ]
  },
  {
   "cell_type": "code",
   "execution_count": 4,
   "metadata": {},
   "outputs": [
    {
     "name": "stdout",
     "output_type": "stream",
     "text": [
      "The current pointer position is (466, 24)\n"
     ]
    }
   ],
   "source": [
    "# Read pointer position\n",
    "print('The current pointer position is {0}'.format(\n",
    "    mouse.position))"
   ]
  },
  {
   "cell_type": "code",
   "execution_count": 9,
   "metadata": {},
   "outputs": [
    {
     "name": "stdout",
     "output_type": "stream",
     "text": [
      "Now we have moved it to (10, 20)\n"
     ]
    }
   ],
   "source": [
    "# Set pointer position\n",
    "mouse.position = (10, 20)\n",
    "print('Now we have moved it to {0}'.format(\n",
    "    mouse.position))"
   ]
  },
  {
   "cell_type": "code",
   "execution_count": null,
   "metadata": {},
   "outputs": [],
   "source": [
    "# Move pointer relative to current position\n",
    "mouse.move(5, -5)\n",
    "\n",
    "# Press and release\n",
    "mouse.press(Button.left)\n",
    "mouse.release(Button.left)\n",
    "\n",
    "# Double click; this is different from pressing and releasing\n",
    "# twice on Mac OSX\n",
    "mouse.click(Button.left, 2)\n",
    "\n",
    "# Scroll two steps down\n",
    "mouse.scroll(0, 2)"
   ]
  },
  {
   "cell_type": "code",
   "execution_count": null,
   "metadata": {},
   "outputs": [],
   "source": [
    "#############(466, 24)\n",
    "mouse.position = (466, 24)\n",
    "mouse.click(Button.left, 1)"
   ]
  },
  {
   "cell_type": "code",
   "execution_count": null,
   "metadata": {},
   "outputs": [],
   "source": []
  }
 ],
 "metadata": {
  "kernelspec": {
   "display_name": "Python 3",
   "language": "python",
   "name": "python3"
  },
  "language_info": {
   "codemirror_mode": {
    "name": "ipython",
    "version": 3
   },
   "file_extension": ".py",
   "mimetype": "text/x-python",
   "name": "python",
   "nbconvert_exporter": "python",
   "pygments_lexer": "ipython3",
   "version": "3.7.3"
  }
 },
 "nbformat": 4,
 "nbformat_minor": 2
}
