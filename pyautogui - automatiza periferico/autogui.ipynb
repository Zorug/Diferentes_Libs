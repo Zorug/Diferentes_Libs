{
 "cells": [
  {
   "cell_type": "code",
   "execution_count": 8,
   "metadata": {},
   "outputs": [],
   "source": [
    "import pyautogui"
   ]
  },
  {
   "cell_type": "code",
   "execution_count": 9,
   "metadata": {},
   "outputs": [
    {
     "name": "stdout",
     "output_type": "stream",
     "text": [
      "Size(width=1366, height=768)\n"
     ]
    }
   ],
   "source": [
    "print(pyautogui.size()) \n",
    "#This function is used to get Screen resolution."
   ]
  },
  {
   "cell_type": "code",
   "execution_count": 10,
   "metadata": {},
   "outputs": [],
   "source": [
    "pyautogui.moveTo(100, 100, duration = 1) \n",
    "#use this function move the mouse in pyautogui module"
   ]
  },
  {
   "cell_type": "code",
   "execution_count": 11,
   "metadata": {},
   "outputs": [],
   "source": [
    "pyautogui.moveRel(0, 50, duration = 1) \n",
    "#moves the mouse pointer relative to its previous position"
   ]
  },
  {
   "cell_type": "code",
   "execution_count": 25,
   "metadata": {},
   "outputs": [
    {
     "name": "stdout",
     "output_type": "stream",
     "text": [
      "Point(x=717, y=367)\n"
     ]
    }
   ],
   "source": [
    "print(pyautogui.position()) \n",
    "#function to get current position of the mouse pointer"
   ]
  },
  {
   "cell_type": "code",
   "execution_count": 13,
   "metadata": {},
   "outputs": [],
   "source": [
    "pyautogui.click(100, 100)\n",
    "#Function used for clicking and dragging the mouse"
   ]
  },
  {
   "cell_type": "code",
   "execution_count": 14,
   "metadata": {},
   "outputs": [],
   "source": [
    "pyautogui.scroll(200)\n",
    "#scroll function takes no. of pixels as argument, and scrolls the screen up to given number of pixels."
   ]
  },
  {
   "cell_type": "code",
   "execution_count": 15,
   "metadata": {},
   "outputs": [],
   "source": [
    "pyautogui.click(100, 100) \n",
    "pyautogui.typewrite(\"hello Geeks !\") \n",
    "#You can automate typing of string by using typewrite() function. just pass the string which you want to type as argument of this function."
   ]
  },
  {
   "cell_type": "code",
   "execution_count": 16,
   "metadata": {},
   "outputs": [],
   "source": [
    "pyautogui.click(100, 100) \n",
    "pyautogui.typewrite([\"a\", \"left\", \"ctrlleft\"])\n",
    "#You can pass key names separately through typewrite() function"
   ]
  },
  {
   "cell_type": "code",
   "execution_count": 17,
   "metadata": {
    "scrolled": true
   },
   "outputs": [],
   "source": [
    "pyautogui.click(100, 100)\n",
    "pyautogui.hotkey(\"ctrlleft\", \"a\") \n",
    "#Use hotkey() function to press combination of keys like ctrl-c, ctrl-a etc"
   ]
  },
  {
   "cell_type": "code",
   "execution_count": 47,
   "metadata": {},
   "outputs": [],
   "source": [
    "#segura e move\n",
    "x0, y0 = 717, 367\n",
    "pyautogui.click(x0, y0) # seleciona a janela)\n",
    "pyautogui.mouseDown(x=x0, y=y0, button='left')"
   ]
  },
  {
   "cell_type": "code",
   "execution_count": 44,
   "metadata": {},
   "outputs": [],
   "source": [
    "dx, dy = 5, 5\n",
    "x1, y1 = x0+dx, y0+dy\n",
    "pyautogui.moveTo(x1, y1, duration = 2) "
   ]
  },
  {
   "cell_type": "code",
   "execution_count": 44,
   "metadata": {},
   "outputs": [],
   "source": [
    "pyautogui.mouseUp(x=x1, y=y1, button='left')"
   ]
  },
  {
   "cell_type": "code",
   "execution_count": null,
   "metadata": {},
   "outputs": [],
   "source": []
  }
 ],
 "metadata": {
  "kernelspec": {
   "display_name": "Python 3",
   "language": "python",
   "name": "python3"
  },
  "language_info": {
   "codemirror_mode": {
    "name": "ipython",
    "version": 3
   },
   "file_extension": ".py",
   "mimetype": "text/x-python",
   "name": "python",
   "nbconvert_exporter": "python",
   "pygments_lexer": "ipython3",
   "version": "3.7.3"
  }
 },
 "nbformat": 4,
 "nbformat_minor": 2
}
